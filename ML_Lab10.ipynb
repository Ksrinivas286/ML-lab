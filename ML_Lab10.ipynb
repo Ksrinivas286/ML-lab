{
  "nbformat": 4,
  "nbformat_minor": 0,
  "metadata": {
    "colab": {
      "provenance": [],
      "include_colab_link": true
    },
    "kernelspec": {
      "name": "python3",
      "display_name": "Python 3"
    },
    "language_info": {
      "name": "python"
    }
  },
  "cells": [
    {
      "cell_type": "markdown",
      "metadata": {
        "id": "view-in-github",
        "colab_type": "text"
      },
      "source": [
        "<a href=\"https://colab.research.google.com/github/Ksrinivas286/ML-lab/blob/main/ML_Lab10.ipynb\" target=\"_parent\"><img src=\"https://colab.research.google.com/assets/colab-badge.svg\" alt=\"Open In Colab\"/></a>"
      ]
    },
    {
      "cell_type": "markdown",
      "source": [
        "**Naïve Bayes Classifier Algorithm:**\n",
        "\n",
        "* Naïve Bayes algorithm is a supervised learning algorithm, which is based on Bayes theorem and used for solving classification problems.\n",
        "\n",
        "* It is mainly used in text classification that includes a high-dimensional training dataset.\n",
        "\n",
        "* Naïve Bayes Classifier is one of the simple and most effective Classification algorithms which helps in building the fast machine learning models that can make quick predictions.\n",
        "\n",
        "* It is a probabilistic classifier, which means it predicts on the basis of the probability of an object.\n",
        "\n",
        "* Some popular examples of Naïve Bayes Algorithm are spam filtration, Sentimental analysis, and classifying articles."
      ],
      "metadata": {
        "id": "oyWIWTBey0cZ"
      }
    },
    {
      "cell_type": "markdown",
      "source": [
        "The Naïve Bayes algorithm is comprised of two words Naïve and Bayes, Which can be described as:\n",
        "\n",
        "**Naïve:** It is called Naïve because it assumes that the occurrence of a certain feature is independent of the occurrence of other features. Such as if the fruit is identified on the bases of color, shape, and taste, then red, spherical, and sweet fruit is recognized as an apple. Hence each feature individually contributes to identify that it is an apple without depending on each other.\n",
        "\n",
        "**Bayes:** It is called Bayes because it depends on the principle of Bayes' Theorem."
      ],
      "metadata": {
        "id": "TRUi7fODzMt1"
      }
    },
    {
      "cell_type": "markdown",
      "source": [
        "**Bayes' Theorem:**\n",
        "\n",
        "Bayes' theorem is also known as **Bayes' Rule** or **Bayes' law**, which is used to determine the probability of a hypothesis with prior knowledge. It depends on the conditional probability.\n",
        "\n",
        "**The formula for Bayes' theorem is given as:**\n",
        "![image.png](data:image/png;base64,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)\n",
        "Where,\n",
        "\n",
        "P(A|B) is Posterior probability: Probability of hypothesis A on the observed event B.\n",
        "\n",
        "P(B|A) is Likelihood probability: Probability of the evidence given that the probability of a hypothesis is true."
      ],
      "metadata": {
        "id": "Q_YYe53ext2w"
      }
    },
    {
      "cell_type": "markdown",
      "source": [
        "### **10. Assuming a set of Documents that need to be classified, use the naive Bayesian Classifier model to perform this task. Built - in Java classes API can be used to write the program. Calculate the accuracy, Precision and recall for your dataset.**\n"
      ],
      "metadata": {
        "id": "Z2EEGIKHuvVP"
      }
    },
    {
      "cell_type": "code",
      "source": [
        "import pandas as pd\n",
        "from sklearn.model_selection import train_test_split\n",
        "from sklearn.naive_bayes import MultinomialNB\n",
        "from sklearn.feature_extraction.text import CountVectorizer\n",
        "from sklearn.metrics import accuracy_score, precision_score, recall_score, classification_report\n",
        "\n",
        "# Read dataset from a CSV file\n",
        "# If the file is not found, you need to either upload it or change the path accordingly\n",
        "# 1. Upload 'Lab10.csv' to the current working directory or your desired directory.\n",
        "# 2. Change the path below to the correct location of your file if it's not in the current directory.\n",
        "\n",
        "# Example: If the file is in a folder named 'data' in the same directory as your script:\n",
        "# df = pd.read_csv('data/Lab10.csv')\n",
        "\n",
        "# If you uploaded the file to Google Colab's content folder:\n",
        "# df = pd.read_csv('/content/Lab10.csv')  # This should work if you uploaded it\n",
        "\n",
        "# Example: If the file is in your Google Drive, mount your drive and provide the path:\n",
        "# from google.colab import drive\n",
        "# drive.mount('/content/drive')\n",
        "# df = pd.read_csv('/content/drive/MyDrive/Lab10.csv') # Update with your file path in Google Drive\n",
        "\n",
        "# If you are unsure about the path, print the current working directory:\n",
        "import os\n",
        "print(os.getcwd()) #This will show you the current working directory\n",
        "\n",
        "df = pd.read_csv('Lab10.csv') # Assuming the file is in the current directory\n",
        "\n",
        "\n",
        "# Check if the DataFrame is loaded correctly\n",
        "print(df.head())  # Print the first few rows of the DataFrame\n",
        "\n",
        "# Assuming the dataset has 'message' and 'label' columns\n",
        "X = df['message']\n",
        "y = df['label']\n",
        "\n",
        "# ... rest of your code ..."
      ],
      "metadata": {
        "id": "ot-U_oodu6QP",
        "colab": {
          "base_uri": "https://localhost:8080/",
          "height": 391
        },
        "outputId": "703aa0fe-c8dd-403d-a330-927f5b76abd7"
      },
      "execution_count": 4,
      "outputs": [
        {
          "output_type": "stream",
          "name": "stdout",
          "text": [
            "/content\n"
          ]
        },
        {
          "output_type": "error",
          "ename": "FileNotFoundError",
          "evalue": "[Errno 2] No such file or directory: 'Lab10.csv'",
          "traceback": [
            "\u001b[0;31m---------------------------------------------------------------------------\u001b[0m",
            "\u001b[0;31mFileNotFoundError\u001b[0m                         Traceback (most recent call last)",
            "\u001b[0;32m<ipython-input-4-78f747857e61>\u001b[0m in \u001b[0;36m<cell line: 27>\u001b[0;34m()\u001b[0m\n\u001b[1;32m     25\u001b[0m \u001b[0mprint\u001b[0m\u001b[0;34m(\u001b[0m\u001b[0mos\u001b[0m\u001b[0;34m.\u001b[0m\u001b[0mgetcwd\u001b[0m\u001b[0;34m(\u001b[0m\u001b[0;34m)\u001b[0m\u001b[0;34m)\u001b[0m \u001b[0;31m#This will show you the current working directory\u001b[0m\u001b[0;34m\u001b[0m\u001b[0;34m\u001b[0m\u001b[0m\n\u001b[1;32m     26\u001b[0m \u001b[0;34m\u001b[0m\u001b[0m\n\u001b[0;32m---> 27\u001b[0;31m \u001b[0mdf\u001b[0m \u001b[0;34m=\u001b[0m \u001b[0mpd\u001b[0m\u001b[0;34m.\u001b[0m\u001b[0mread_csv\u001b[0m\u001b[0;34m(\u001b[0m\u001b[0;34m'Lab10.csv'\u001b[0m\u001b[0;34m)\u001b[0m \u001b[0;31m# Assuming the file is in the current directory\u001b[0m\u001b[0;34m\u001b[0m\u001b[0;34m\u001b[0m\u001b[0m\n\u001b[0m\u001b[1;32m     28\u001b[0m \u001b[0;34m\u001b[0m\u001b[0m\n\u001b[1;32m     29\u001b[0m \u001b[0;34m\u001b[0m\u001b[0m\n",
            "\u001b[0;32m/usr/local/lib/python3.10/dist-packages/pandas/io/parsers/readers.py\u001b[0m in \u001b[0;36mread_csv\u001b[0;34m(filepath_or_buffer, sep, delimiter, header, names, index_col, usecols, dtype, engine, converters, true_values, false_values, skipinitialspace, skiprows, skipfooter, nrows, na_values, keep_default_na, na_filter, verbose, skip_blank_lines, parse_dates, infer_datetime_format, keep_date_col, date_parser, date_format, dayfirst, cache_dates, iterator, chunksize, compression, thousands, decimal, lineterminator, quotechar, quoting, doublequote, escapechar, comment, encoding, encoding_errors, dialect, on_bad_lines, delim_whitespace, low_memory, memory_map, float_precision, storage_options, dtype_backend)\u001b[0m\n\u001b[1;32m    946\u001b[0m     \u001b[0mkwds\u001b[0m\u001b[0;34m.\u001b[0m\u001b[0mupdate\u001b[0m\u001b[0;34m(\u001b[0m\u001b[0mkwds_defaults\u001b[0m\u001b[0;34m)\u001b[0m\u001b[0;34m\u001b[0m\u001b[0;34m\u001b[0m\u001b[0m\n\u001b[1;32m    947\u001b[0m \u001b[0;34m\u001b[0m\u001b[0m\n\u001b[0;32m--> 948\u001b[0;31m     \u001b[0;32mreturn\u001b[0m \u001b[0m_read\u001b[0m\u001b[0;34m(\u001b[0m\u001b[0mfilepath_or_buffer\u001b[0m\u001b[0;34m,\u001b[0m \u001b[0mkwds\u001b[0m\u001b[0;34m)\u001b[0m\u001b[0;34m\u001b[0m\u001b[0;34m\u001b[0m\u001b[0m\n\u001b[0m\u001b[1;32m    949\u001b[0m \u001b[0;34m\u001b[0m\u001b[0m\n\u001b[1;32m    950\u001b[0m \u001b[0;34m\u001b[0m\u001b[0m\n",
            "\u001b[0;32m/usr/local/lib/python3.10/dist-packages/pandas/io/parsers/readers.py\u001b[0m in \u001b[0;36m_read\u001b[0;34m(filepath_or_buffer, kwds)\u001b[0m\n\u001b[1;32m    609\u001b[0m \u001b[0;34m\u001b[0m\u001b[0m\n\u001b[1;32m    610\u001b[0m     \u001b[0;31m# Create the parser.\u001b[0m\u001b[0;34m\u001b[0m\u001b[0;34m\u001b[0m\u001b[0m\n\u001b[0;32m--> 611\u001b[0;31m     \u001b[0mparser\u001b[0m \u001b[0;34m=\u001b[0m \u001b[0mTextFileReader\u001b[0m\u001b[0;34m(\u001b[0m\u001b[0mfilepath_or_buffer\u001b[0m\u001b[0;34m,\u001b[0m \u001b[0;34m**\u001b[0m\u001b[0mkwds\u001b[0m\u001b[0;34m)\u001b[0m\u001b[0;34m\u001b[0m\u001b[0;34m\u001b[0m\u001b[0m\n\u001b[0m\u001b[1;32m    612\u001b[0m \u001b[0;34m\u001b[0m\u001b[0m\n\u001b[1;32m    613\u001b[0m     \u001b[0;32mif\u001b[0m \u001b[0mchunksize\u001b[0m \u001b[0;32mor\u001b[0m \u001b[0miterator\u001b[0m\u001b[0;34m:\u001b[0m\u001b[0;34m\u001b[0m\u001b[0;34m\u001b[0m\u001b[0m\n",
            "\u001b[0;32m/usr/local/lib/python3.10/dist-packages/pandas/io/parsers/readers.py\u001b[0m in \u001b[0;36m__init__\u001b[0;34m(self, f, engine, **kwds)\u001b[0m\n\u001b[1;32m   1446\u001b[0m \u001b[0;34m\u001b[0m\u001b[0m\n\u001b[1;32m   1447\u001b[0m         \u001b[0mself\u001b[0m\u001b[0;34m.\u001b[0m\u001b[0mhandles\u001b[0m\u001b[0;34m:\u001b[0m \u001b[0mIOHandles\u001b[0m \u001b[0;34m|\u001b[0m \u001b[0;32mNone\u001b[0m \u001b[0;34m=\u001b[0m \u001b[0;32mNone\u001b[0m\u001b[0;34m\u001b[0m\u001b[0;34m\u001b[0m\u001b[0m\n\u001b[0;32m-> 1448\u001b[0;31m         \u001b[0mself\u001b[0m\u001b[0;34m.\u001b[0m\u001b[0m_engine\u001b[0m \u001b[0;34m=\u001b[0m \u001b[0mself\u001b[0m\u001b[0;34m.\u001b[0m\u001b[0m_make_engine\u001b[0m\u001b[0;34m(\u001b[0m\u001b[0mf\u001b[0m\u001b[0;34m,\u001b[0m \u001b[0mself\u001b[0m\u001b[0;34m.\u001b[0m\u001b[0mengine\u001b[0m\u001b[0;34m)\u001b[0m\u001b[0;34m\u001b[0m\u001b[0;34m\u001b[0m\u001b[0m\n\u001b[0m\u001b[1;32m   1449\u001b[0m \u001b[0;34m\u001b[0m\u001b[0m\n\u001b[1;32m   1450\u001b[0m     \u001b[0;32mdef\u001b[0m \u001b[0mclose\u001b[0m\u001b[0;34m(\u001b[0m\u001b[0mself\u001b[0m\u001b[0;34m)\u001b[0m \u001b[0;34m->\u001b[0m \u001b[0;32mNone\u001b[0m\u001b[0;34m:\u001b[0m\u001b[0;34m\u001b[0m\u001b[0;34m\u001b[0m\u001b[0m\n",
            "\u001b[0;32m/usr/local/lib/python3.10/dist-packages/pandas/io/parsers/readers.py\u001b[0m in \u001b[0;36m_make_engine\u001b[0;34m(self, f, engine)\u001b[0m\n\u001b[1;32m   1703\u001b[0m                 \u001b[0;32mif\u001b[0m \u001b[0;34m\"b\"\u001b[0m \u001b[0;32mnot\u001b[0m \u001b[0;32min\u001b[0m \u001b[0mmode\u001b[0m\u001b[0;34m:\u001b[0m\u001b[0;34m\u001b[0m\u001b[0;34m\u001b[0m\u001b[0m\n\u001b[1;32m   1704\u001b[0m                     \u001b[0mmode\u001b[0m \u001b[0;34m+=\u001b[0m \u001b[0;34m\"b\"\u001b[0m\u001b[0;34m\u001b[0m\u001b[0;34m\u001b[0m\u001b[0m\n\u001b[0;32m-> 1705\u001b[0;31m             self.handles = get_handle(\n\u001b[0m\u001b[1;32m   1706\u001b[0m                 \u001b[0mf\u001b[0m\u001b[0;34m,\u001b[0m\u001b[0;34m\u001b[0m\u001b[0;34m\u001b[0m\u001b[0m\n\u001b[1;32m   1707\u001b[0m                 \u001b[0mmode\u001b[0m\u001b[0;34m,\u001b[0m\u001b[0;34m\u001b[0m\u001b[0;34m\u001b[0m\u001b[0m\n",
            "\u001b[0;32m/usr/local/lib/python3.10/dist-packages/pandas/io/common.py\u001b[0m in \u001b[0;36mget_handle\u001b[0;34m(path_or_buf, mode, encoding, compression, memory_map, is_text, errors, storage_options)\u001b[0m\n\u001b[1;32m    861\u001b[0m         \u001b[0;32mif\u001b[0m \u001b[0mioargs\u001b[0m\u001b[0;34m.\u001b[0m\u001b[0mencoding\u001b[0m \u001b[0;32mand\u001b[0m \u001b[0;34m\"b\"\u001b[0m \u001b[0;32mnot\u001b[0m \u001b[0;32min\u001b[0m \u001b[0mioargs\u001b[0m\u001b[0;34m.\u001b[0m\u001b[0mmode\u001b[0m\u001b[0;34m:\u001b[0m\u001b[0;34m\u001b[0m\u001b[0;34m\u001b[0m\u001b[0m\n\u001b[1;32m    862\u001b[0m             \u001b[0;31m# Encoding\u001b[0m\u001b[0;34m\u001b[0m\u001b[0;34m\u001b[0m\u001b[0m\n\u001b[0;32m--> 863\u001b[0;31m             handle = open(\n\u001b[0m\u001b[1;32m    864\u001b[0m                 \u001b[0mhandle\u001b[0m\u001b[0;34m,\u001b[0m\u001b[0;34m\u001b[0m\u001b[0;34m\u001b[0m\u001b[0m\n\u001b[1;32m    865\u001b[0m                 \u001b[0mioargs\u001b[0m\u001b[0;34m.\u001b[0m\u001b[0mmode\u001b[0m\u001b[0;34m,\u001b[0m\u001b[0;34m\u001b[0m\u001b[0;34m\u001b[0m\u001b[0m\n",
            "\u001b[0;31mFileNotFoundError\u001b[0m: [Errno 2] No such file or directory: 'Lab10.csv'"
          ]
        }
      ]
    },
    {
      "cell_type": "code",
      "source": [],
      "metadata": {
        "id": "qAJ8oCOau6Nd"
      },
      "execution_count": null,
      "outputs": []
    },
    {
      "cell_type": "code",
      "source": [],
      "metadata": {
        "id": "oGkg17hZu6Ke"
      },
      "execution_count": null,
      "outputs": []
    },
    {
      "cell_type": "code",
      "source": [],
      "metadata": {
        "id": "fKK9hw2iRDxW"
      },
      "execution_count": null,
      "outputs": []
    },
    {
      "cell_type": "code",
      "source": [],
      "metadata": {
        "id": "cTFOB-uyu6HC"
      },
      "execution_count": null,
      "outputs": []
    }
  ]
}